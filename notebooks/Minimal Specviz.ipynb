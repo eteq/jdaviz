{
 "cells": [
  {
   "cell_type": "code",
   "execution_count": null,
   "metadata": {},
   "outputs": [],
   "source": [
    "from jdaviz import SpecViz\n",
    "\n",
    "specviz = SpecViz()\n",
    "specviz.app"
   ]
  },
  {
   "cell_type": "markdown",
   "metadata": {},
   "source": [
    "Make two selections in a continuum area."
   ]
  },
  {
   "cell_type": "code",
   "execution_count": null,
   "metadata": {},
   "outputs": [],
   "source": [
    "import specutils\n",
    "\n",
    "spec_url = 'https://dr14.sdss.org/optical/spectrum/view/data/format=fits/spec=lite?plateid=1323&mjd=52797&fiberid=12'\n",
    "spec = specutils.Spectrum1D.read(spec_url, cache=True)\n",
    "\n",
    "specviz.load_data(spec)"
   ]
  },
  {
   "cell_type": "code",
   "execution_count": null,
   "metadata": {},
   "outputs": [],
   "source": [
    "ss_groups = specviz.app.data_collection.subset_groups\n",
    "subregs = []\n",
    "for grp in ss_groups:\n",
    "    ss = grp.subsets[0].subset_state\n",
    "    subregs.append((ss.lo, ss.hi)*spec.spectral_axis.unit)\n",
    "sr = specutils.SpectralRegion(subregs)\n",
    "sr"
   ]
  },
  {
   "cell_type": "code",
   "execution_count": null,
   "metadata": {},
   "outputs": [],
   "source": [
    "from astropy.modeling import models\n",
    "from specutils import fitting\n",
    "\n",
    "cmod = fitting.fit_lines(spec, models.Chebyshev1D(20), window=sr)\n",
    "\n",
    "from matplotlib import pyplot as plt\n",
    "plt.plot(spec.spectral_axis, spec.flux)\n",
    "plt.plot(spec.spectral_axis, cmod(spec.spectral_axis))\n",
    "plt.ylim(0, 1000)"
   ]
  },
  {
   "cell_type": "markdown",
   "metadata": {},
   "source": [
    "Need to show above in specviz..."
   ]
  },
  {
   "cell_type": "markdown",
   "metadata": {},
   "source": [
    "That is *wrong*.  But assume it's right:"
   ]
  },
  {
   "cell_type": "code",
   "execution_count": null,
   "metadata": {},
   "outputs": [],
   "source": [
    "contsub = spec - cmod(spec.spectral_axis)\n",
    "specviz.load_data(contsub)"
   ]
  },
  {
   "cell_type": "markdown",
   "metadata": {},
   "source": [
    "Make an additional line selection"
   ]
  },
  {
   "cell_type": "code",
   "execution_count": null,
   "metadata": {},
   "outputs": [],
   "source": [
    "ss = specviz.app.data_collection.subset_groups[-1].subsets[0].subset_state\n",
    "newsr = specutils.SpectralRegion(ss.lo*spec.spectral_axis.unit, ss.hi*spec.spectral_axis.unit)\n",
    "newsr"
   ]
  },
  {
   "cell_type": "code",
   "execution_count": null,
   "metadata": {},
   "outputs": [],
   "source": [
    "specutils.analysis.line_flux(contsub, newsr)"
   ]
  }
 ],
 "metadata": {
  "kernelspec": {
   "display_name": "Python 3",
   "language": "python",
   "name": "python3"
  },
  "language_info": {
   "codemirror_mode": {
    "name": "ipython",
    "version": 3
   },
   "file_extension": ".py",
   "mimetype": "text/x-python",
   "name": "python",
   "nbconvert_exporter": "python",
   "pygments_lexer": "ipython3",
   "version": "3.8.2"
  }
 },
 "nbformat": 4,
 "nbformat_minor": 4
}
