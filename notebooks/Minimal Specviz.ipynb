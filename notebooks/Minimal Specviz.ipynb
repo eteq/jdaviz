{
 "cells": [
  {
   "cell_type": "code",
   "execution_count": 1,
   "metadata": {
    "scrolled": false
   },
   "outputs": [
    {
     "name": "stderr",
     "output_type": "stream",
     "text": [
      "/home/erik/miniconda3/envs/jdaviz-dev2/lib/python3.8/site-packages/glue/external/echo/__init__.py:3: UserWarning: glue.external.echo is deprecated, import from echo directly instead\n",
      "  warnings.warn('glue.external.echo is deprecated, import from echo directly instead')\n"
     ]
    },
    {
     "data": {
      "application/vnd.jupyter.widget-view+json": {
       "model_id": "ae98ce252fe24fb699160b85fc4ec0f2",
       "version_major": 2,
       "version_minor": 0
      },
      "text/plain": [
       "Application(components={'g-viewer-tab': '<template>\\n  <component :is=\"stack.container\">\\n    <g-viewer-tab\\n …"
      ]
     },
     "metadata": {},
     "output_type": "display_data"
    }
   ],
   "source": [
    "from jdaviz import SpecViz\n",
    "\n",
    "specviz = SpecViz()\n",
    "specviz.app"
   ]
  },
  {
   "cell_type": "code",
   "execution_count": 2,
   "metadata": {},
   "outputs": [],
   "source": [
    "import specutils\n",
    "\n",
    "spec_url = 'https://dr14.sdss.org/optical/spectrum/view/data/format=fits/spec=lite?plateid=1323&mjd=52797&fiberid=12'\n",
    "spec = specutils.Spectrum1D.read(spec_url, cache=True)\n",
    "\n",
    "specviz.load_data(spec)"
   ]
  },
  {
   "cell_type": "code",
   "execution_count": 3,
   "metadata": {},
   "outputs": [],
   "source": [
    "# zoom in on Halpha region\n",
    "v = specviz.app.get_viewer('spectrum-viewer')\n",
    "v.state.x_min = 6500\n",
    "v.state.x_max = 6750"
   ]
  },
  {
   "cell_type": "code",
   "execution_count": 4,
   "metadata": {},
   "outputs": [],
   "source": [
    "v.state.y_min = 0\n",
    "v.state.y_max=2000"
   ]
  },
  {
   "cell_type": "markdown",
   "metadata": {},
   "source": [
    "Now use the selection tool to selecct a spectral line and a bit of continuum around it"
   ]
  },
  {
   "cell_type": "code",
   "execution_count": 5,
   "metadata": {},
   "outputs": [
    {
     "data": {
      "text/plain": [
       "Spectral Region, 1 sub-regions:\n",
       "  (6563.190901360545 Angstrom, 6576.796343537415 Angstrom) "
      ]
     },
     "execution_count": 5,
     "metadata": {},
     "output_type": "execute_result"
    }
   ],
   "source": [
    "# THIS SHOULD BE UPDATED WHEN 159/161 are in!\n",
    "ss = specviz.app.data_collection.subset_groups[-1].subsets[0].subset_state\n",
    "line_region = specutils.SpectralRegion(ss.lo*spec.spectral_axis.unit, ss.hi*spec.spectral_axis.unit)\n",
    "line_region"
   ]
  },
  {
   "cell_type": "code",
   "execution_count": 6,
   "metadata": {},
   "outputs": [
    {
     "data": {
      "text/plain": [
       "<QuantityModel CompoundModel(amplitude_0=755.26014902, mean_0=6570.13682733, stddev_0=1.71880298, amplitude_1=193.45212782), input_units=Angstrom, return_units=1e-17 erg / (Angstrom cm2 s)>"
      ]
     },
     "execution_count": 6,
     "metadata": {},
     "output_type": "execute_result"
    }
   ],
   "source": [
    "from astropy.modeling import models\n",
    "from specutils.fitting import fit_lines\n",
    "from  specutils import manipulation\n",
    "\n",
    "# create a model \n",
    "line_model = models.Gaussian1D(mean=(line_region.lower + line_region.upper)/2, \n",
    "                               stddev=3, \n",
    "                               amplitude=1000) + models.Const1D(200)\n",
    "\n",
    "#fit that model to the selected region\n",
    "\n",
    "# after a bug fix, this should be:\n",
    "# fit_lines(spec, line_model, window=line_region)\n",
    "\n",
    "extracted = manipulation.extract_region(spec, line_region)\n",
    "extracted.mask[:] = False\n",
    "fitted_line = fit_lines(extracted, line_model)\n",
    "fitted_line"
   ]
  },
  {
   "cell_type": "code",
   "execution_count": 7,
   "metadata": {},
   "outputs": [
    {
     "data": {
      "text/plain": [
       "(0.0, 1000.0)"
      ]
     },
     "execution_count": 7,
     "metadata": {},
     "output_type": "execute_result"
    },
    {
     "data": {
      "image/png": "[encoded data removed]",
      "text/plain": [
       "<Figure size 432x288 with 1 Axes>"
      ]
     },
     "metadata": {
      "needs_background": "light"
     },
     "output_type": "display_data"
    }
   ],
   "source": [
    "from matplotlib import pyplot as plt\n",
    "plt.plot(spec.spectral_axis, spec.flux)\n",
    "plt.plot(spec.spectral_axis, fitted_line(spec.spectral_axis))\n",
    "\n",
    "plt.xlim(6500, 6650)\n",
    "plt.ylim(0, 1000)"
   ]
  },
  {
   "cell_type": "code",
   "execution_count": 36,
   "metadata": {},
   "outputs": [
    {
     "data": {
      "text/latex": [
       "$3253.9629 \\; \\mathrm{1 \\times 10^{-17}\\,\\frac{erg}{\\mathring{A}\\,s\\,cm^{2}}}$"
      ],
      "text/plain": [
       "<Quantity 3253.96293914 1e-17 erg / (Angstrom cm2 s)>"
      ]
     },
     "execution_count": 36,
     "metadata": {},
     "output_type": "execute_result"
    }
   ],
   "source": [
    "# integral of just the gaussian part of the line *might* be what you want as \n",
    "\n",
    "from scipy.integrate import quad\n",
    "quad(fitted_line.unitless_model.left, 6500, 6700)[0]*fitted_line.return_units"
   ]
  }
 ],
 "metadata": {
  "kernelspec": {
   "display_name": "Python 3",
   "language": "python",
   "name": "python3"
  },
  "language_info": {
   "codemirror_mode": {
    "name": "ipython",
    "version": 3
   },
   "file_extension": ".py",
   "mimetype": "text/x-python",
   "name": "python",
   "nbconvert_exporter": "python",
   "pygments_lexer": "ipython3",
   "version": "3.8.2"
  }
 },
 "nbformat": 4,
 "nbformat_minor": 4
}
